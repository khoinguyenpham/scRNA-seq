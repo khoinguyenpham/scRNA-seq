{
 "cells": [
  {
   "cell_type": "markdown",
   "metadata": {
    "deletable": false,
    "editable": false,
    "nbgrader": {
     "cell_type": "markdown",
     "checksum": "86534132cb0440aa063e3f132e103f4c",
     "grade": false,
     "grade_id": "cell-6061adf3d375ad75",
     "locked": true,
     "schema_version": 3,
     "solution": false,
     "task": false
    }
   },
   "source": [
    "## The anndata package\n",
    "\n",
    "### Students notebook"
   ]
  },
  {
   "cell_type": "markdown",
   "metadata": {
    "deletable": false,
    "editable": false,
    "nbgrader": {
     "cell_type": "markdown",
     "checksum": "e842f2c2e66d4fb3f3562d49e5d617b0",
     "grade": false,
     "grade_id": "cell-43fad46ab4c8706f",
     "locked": true,
     "schema_version": 3,
     "solution": false,
     "task": false
    }
   },
   "source": [
    "#### Organizing single cell data in Python\n",
    "\n",
    "This notebook is the first one of a series where you will replicate some of the analysis presented in the coding lectures on the T-cell use case, this time using iTReg-activated T-cells rather than the resting ones. Let's start!"
   ]
  },
  {
   "cell_type": "code",
   "execution_count": 1,
   "metadata": {
    "deletable": false,
    "editable": false,
    "nbgrader": {
     "cell_type": "code",
     "checksum": "99164d5665b8f1fbc85cdfe31edb4842",
     "grade": false,
     "grade_id": "cell-1d2a63e6a6d4ac69",
     "locked": true,
     "schema_version": 3,
     "solution": false,
     "task": false
    }
   },
   "outputs": [],
   "source": [
    "# importing anndata, numpy and pandas as we did in the coding lectures\n",
    "import anndata as ad\n",
    "import numpy as np\n",
    "import pandas as pd"
   ]
  },
  {
   "cell_type": "code",
   "execution_count": 2,
   "metadata": {
    "deletable": false,
    "nbgrader": {
     "cell_type": "code",
     "checksum": "83a7be9ed07b1cc98789f7d9867d2072",
     "grade": false,
     "grade_id": "cell-533feb17625268ea",
     "locked": false,
     "schema_version": 3,
     "solution": true,
     "task": false
    }
   },
   "outputs": [
    {
     "name": "stdout",
     "output_type": "stream",
     "text": [
      "AnnData object with n_obs × n_vars = 500 × 20953\n"
     ]
    }
   ],
   "source": [
    "# exercise: read the scRNA-seq dataset from the './data/scde.h5ad' file and name it \"scde\"\n",
    "scde = ad.read_h5ad('./data/scde.h5ad')\n",
    "# your code here\n",
    "\n",
    "print(scde)"
   ]
  },
  {
   "cell_type": "code",
   "execution_count": null,
   "metadata": {
    "deletable": false,
    "editable": false,
    "nbgrader": {
     "cell_type": "code",
     "checksum": "0f0fef63e789bb53ee928249be9bf7ce",
     "grade": true,
     "grade_id": "cell-2601a93462f22c90",
     "locked": true,
     "points": 5,
     "schema_version": 3,
     "solution": false,
     "task": false
    }
   },
   "outputs": [],
   "source": [
    "# tip: use the scanpy function for reading h5ad files!\n"
   ]
  },
  {
   "cell_type": "markdown",
   "metadata": {
    "deletable": false,
    "editable": false,
    "nbgrader": {
     "cell_type": "markdown",
     "checksum": "5c954bdb7d7f62985127c12601f113b8",
     "grade": false,
     "grade_id": "cell-96a14b7865b51bae",
     "locked": true,
     "schema_version": 3,
     "solution": false,
     "task": false
    }
   },
   "source": [
    "Note that we have only 500 cells; this will allow us to proceed with the analysis faster.\n",
    "Let's check the `obs` data frame:"
   ]
  },
  {
   "cell_type": "code",
   "execution_count": 3,
   "metadata": {
    "deletable": false,
    "editable": false,
    "nbgrader": {
     "cell_type": "code",
     "checksum": "aab94fef3bb9b0343a4f37d45333a517",
     "grade": false,
     "grade_id": "cell-f9d69777d54ce5af",
     "locked": true,
     "schema_version": 3,
     "solution": false,
     "task": false
    }
   },
   "outputs": [
    {
     "data": {
      "text/html": [
       "<div>\n",
       "<style scoped>\n",
       "    .dataframe tbody tr th:only-of-type {\n",
       "        vertical-align: middle;\n",
       "    }\n",
       "\n",
       "    .dataframe tbody tr th {\n",
       "        vertical-align: top;\n",
       "    }\n",
       "\n",
       "    .dataframe thead th {\n",
       "        text-align: right;\n",
       "    }\n",
       "</style>\n",
       "<table border=\"1\" class=\"dataframe\">\n",
       "  <thead>\n",
       "    <tr style=\"text-align: right;\">\n",
       "      <th></th>\n",
       "    </tr>\n",
       "  </thead>\n",
       "  <tbody>\n",
       "    <tr>\n",
       "      <th>N_Th2_r1_GCATACACAGTAGAGC</th>\n",
       "    </tr>\n",
       "    <tr>\n",
       "      <th>N_Th2_r1_TAGAGCTGTTAAGATG</th>\n",
       "    </tr>\n",
       "    <tr>\n",
       "      <th>M_Th17_r1_TCTTTCCAGCACGCCT</th>\n",
       "    </tr>\n",
       "    <tr>\n",
       "      <th>M_Th17_r2_GAGGTGACAGGCGATA</th>\n",
       "    </tr>\n",
       "    <tr>\n",
       "      <th>N_Th17_r1_CTCGTACAGTGGCACA</th>\n",
       "    </tr>\n",
       "    <tr>\n",
       "      <th>...</th>\n",
       "    </tr>\n",
       "    <tr>\n",
       "      <th>M_iTreg_r2_GTGGGTCAGTGGGATC</th>\n",
       "    </tr>\n",
       "    <tr>\n",
       "      <th>M_iTreg_r2_TCGAGGCGTCAAAGAT</th>\n",
       "    </tr>\n",
       "    <tr>\n",
       "      <th>M_iTreg_r2_TCGCGAGGTGCAACTT</th>\n",
       "    </tr>\n",
       "    <tr>\n",
       "      <th>M_iTreg_r2_TCGTACCAGGTGGGTT</th>\n",
       "    </tr>\n",
       "    <tr>\n",
       "      <th>M_iTreg_r2_TCTTCGGAGCTGCCCA</th>\n",
       "    </tr>\n",
       "  </tbody>\n",
       "</table>\n",
       "<p>500 rows × 0 columns</p>\n",
       "</div>"
      ],
      "text/plain": [
       "Empty DataFrame\n",
       "Columns: []\n",
       "Index: [N_Th2_r1_GCATACACAGTAGAGC, N_Th2_r1_TAGAGCTGTTAAGATG, M_Th17_r1_TCTTTCCAGCACGCCT, M_Th17_r2_GAGGTGACAGGCGATA, N_Th17_r1_CTCGTACAGTGGCACA, M_Th17_r2_TGAGCATCATTCTTAC, M_iTreg_r2_GACAGAGTCTCGCTTG, M_iTreg_r2_GCTGCTTGTACGAAAT, M_iTreg_r2_TAAGCGTGTTGAGGTG, M_Th17_r2_GAACATCAGCTAGTCT, N_Th17_r1_TGCGCAGCATGCCTTC, N_Th2_r1_TCAGGTAAGCTGTCTA, N_Th17_r1_GTGCAGCTCGCCAGCA, M_Th17_r1_GTTACAGTCAGTTAGC, N_Th17_r1_CAACCTCGTCTAACGT, M_Th17_r2_AAAGCAAGTCTTCAAG, M_Th17_r2_AAGTCTGCAAACTGTC, M_Th17_r2_CACAAACGTAGTAGTA, M_Th17_r2_CTCGGGATCGTTTAGG, M_Th17_r2_GACGTTATCCCAACGG, M_Th17_r2_GTTTCTAGTCTTTCAT, M_Th0_r2_CTAAGACCATCCAACA, M_Th17_r1_AATCCAGTCGTCCGTT, M_Th17_r1_ACGGAGACACACTGCG, M_Th17_r1_ACTGCTCGTTGCGTTA, M_Th17_r1_CAACCTCAGAGGTAGA, M_Th17_r1_CCGTACTAGCTACCTA, M_Th17_r1_CCGTTCAAGTACGCGA, M_Th17_r1_CGTCCATTCTCGATGA, M_Th17_r1_GAACATCCATAGTAAG, M_Th17_r1_TCTCTAACATCTCGCT, M_Th17_r1_TTTCCTCAGTAACCCT, M_iTreg_r1_AGGGAGTCACATTTCT, M_iTreg_r1_CCAGCGAGTCTAGCGC, M_iTreg_r1_CCTAAAGAGACAAAGG, M_iTreg_r1_CTGCTGTGTAAGCACG, M_iTreg_r1_GAACCTAGTCCGACGT, M_iTreg_r1_GGCTCGAGTCGCATAT, M_iTreg_r1_GTAACTGCACCATGTA, M_iTreg_r1_TGGACGCAGTACGCCC, M_iTreg_r1_TTGGCAACATACTCTT, M_iTreg_r2_GTGCTTCCACGAAACG, N_Th2_r1_GGACATTAGACATAAC, M_Th17_r1_TCGTACCGTGTTTGGT, M_iTreg_r2_CATCAGAGTTTACTCT, M_Th17_r1_TCTTTCCTCAGTTTGG, M_Th17_r2_ATGCGATTCTTCAACT, M_Th17_r1_TGACTAGTCGGATGTT, M_iTreg_r1_GCAATCATCAGGCAAG, M_Th17_r1_GTCTTCGGTCTGCAAT, N_iTreg_r1_AAGGTTCTCTATCGCC, N_iTreg_r2_AACTCCCCAAGGCTCC, N_Th17_r1_GTGCGGTTCCATGAAC, N_iTreg_r1_CTCGGGAAGCACCGCT, N_Th17_r2_CGTAGCGGTATAATGG, M_iTreg_r1_GCAAACTAGCTGCGAA, N_iTreg_r1_CCTAGCTGTGCCTGGT, N_iTreg_r1_TAGTGGTAGGATGGAA, N_iTreg_r2_TCGCGAGAGTCTTGCA, N_iTreg_r2_TCGTAGAAGGAGTTGC, M_iTreg_r1_ACTGCTCCAAGCGCTC, M_iTreg_r1_TATCAGGCACATGTGT, M_iTreg_r1_TTCTTAGGTGTCGCTG, M_Th17_r1_TCAGGTAAGGGCACTA, M_iTreg_r1_CAAGGCCGTTCGGGCT, N_Th17_r2_ATTGGTGTCTAACTTC, N_Th17_r2_TCAATCTAGCCCGAAA, M_iTreg_r1_ACATACGAGCGGCTTC, M_Th17_r2_ACGCCAGGTTGCGTTA, M_Th17_r2_ACTTTCAAGGCTATCT, M_Th17_r2_AGCTCTCAGTCAATAG, M_Th17_r2_AGTGGGAGTCCATCCT, M_Th17_r2_AGTTGGTCAATCAGAA, M_Th17_r2_ATCACGAGTCCCTACT, M_Th17_r2_ATGTGTGCATTGCGGC, M_Th17_r2_CACCAGGGTCTCTCTG, M_Th17_r2_CAGAGAGGTTTCCACC, M_Th17_r2_CAGATCAAGGGAGTAA, M_Th17_r2_CAGCATAGTCGTTGTA, M_Th17_r2_CATGGCGCAAGCGATG, M_Th17_r2_CCACCTAAGCAGCCTC, M_Th17_r2_CCTATTATCCCTTGTG, M_Th17_r2_CGCTGGACATTAACCG, M_Th17_r2_GGAGCAAAGTGGAGAA, M_Th17_r2_GGGACCTCACCCAGTG, M_Th17_r2_GGGTCTGGTAGCGTAG, M_Th17_r2_GTAACTGCAGTATGCT, M_Th17_r2_GTTACAGCAGTGACAG, M_Th17_r2_TACTCGCCAGACAAGC, M_Th17_r2_TAGGCATAGATAGCAT, M_Th17_r2_TCGTACCGTTAAGACA, M_Th17_r2_TCTTCGGGTTGCGTTA, M_Th17_r2_TGCGCAGAGCCGTCGT, M_Th17_r2_TGCGCAGAGGTGCACA, M_Th17_r2_TGCGTGGAGTTTGCGT, M_Th17_r2_TGGTTCCTCAGTTCGA, M_Th17_r2_TGTATTCCACTTAAGC, M_Th17_r2_TTTGCGCTCAACGGCC, M_Th0_r1_CCTAAAGAGAAGAAGC, M_Th17_r1_AAACGGGTCATGCAAC, ...]\n",
       "\n",
       "[500 rows x 0 columns]"
      ]
     },
     "execution_count": 3,
     "metadata": {},
     "output_type": "execute_result"
    }
   ],
   "source": [
    "# obs data frame\n",
    "scde.obs"
   ]
  },
  {
   "cell_type": "markdown",
   "metadata": {
    "deletable": false,
    "editable": false,
    "nbgrader": {
     "cell_type": "markdown",
     "checksum": "2654846d53e7976148382befc6af3f45",
     "grade": false,
     "grade_id": "cell-1e4dec7c37e9d2af",
     "locked": true,
     "schema_version": 3,
     "solution": false,
     "task": false
    }
   },
   "source": [
    "It appears that we do not have any information on the selected cells in the scanpy object. However, we know that this information is stored in a csv file, namely 'obs.csv'. Let's load it and assign the resulting data frame to `scde.obs`."
   ]
  },
  {
   "cell_type": "code",
   "execution_count": 5,
   "metadata": {
    "deletable": false,
    "nbgrader": {
     "cell_type": "code",
     "checksum": "33cc02cc0abb245bdb67d99f0ac0e74e",
     "grade": false,
     "grade_id": "cell-d4610daf57719dbe",
     "locked": false,
     "schema_version": 3,
     "solution": true,
     "task": false
    }
   },
   "outputs": [
    {
     "name": "stdout",
     "output_type": "stream",
     "text": [
      "                            cell.type cytokine.condition donor.id  batch.10X  \\\n",
      "N_Th2_r1_GCATACACAGTAGAGC       Naive                Th2       D3          1   \n",
      "N_Th2_r1_TAGAGCTGTTAAGATG       Naive                Th2       D2          1   \n",
      "M_Th17_r1_TCTTTCCAGCACGCCT     Memory               Th17       D3          1   \n",
      "M_Th17_r2_GAGGTGACAGGCGATA     Memory               Th17       D3          2   \n",
      "N_Th17_r1_CTCGTACAGTGGCACA      Naive               Th17       D2          1   \n",
      "...                               ...                ...      ...        ...   \n",
      "M_iTreg_r2_GTGGGTCAGTGGGATC    Memory              iTreg       D2          2   \n",
      "M_iTreg_r2_TCGAGGCGTCAAAGAT    Memory              iTreg       D4          2   \n",
      "M_iTreg_r2_TCGCGAGGTGCAACTT    Memory              iTreg       D4          2   \n",
      "M_iTreg_r2_TCGTACCAGGTGGGTT    Memory              iTreg       D1          2   \n",
      "M_iTreg_r2_TCTTCGGAGCTGCCCA    Memory              iTreg       D4          2   \n",
      "\n",
      "                             nGene   nUMI  percent.mito   S.Score  G2M.Score  \\\n",
      "N_Th2_r1_GCATACACAGTAGAGC     2890  15616      0.052834 -0.141680  -0.229996   \n",
      "N_Th2_r1_TAGAGCTGTTAAGATG     3672  18645      0.040603  0.009671  -0.051532   \n",
      "M_Th17_r1_TCTTTCCAGCACGCCT    4375  19334      0.019609 -0.239274  -0.278496   \n",
      "M_Th17_r2_GAGGTGACAGGCGATA    3714  18852      0.036336  0.111576   0.663065   \n",
      "N_Th17_r1_CTCGTACAGTGGCACA    1899   7193      0.015434 -0.138268  -0.193798   \n",
      "...                            ...    ...           ...       ...        ...   \n",
      "M_iTreg_r2_GTGGGTCAGTGGGATC   4466  25602      0.047889  0.137482  -0.198448   \n",
      "M_iTreg_r2_TCGAGGCGTCAAAGAT   4184  19147      0.023504 -0.272980  -0.257085   \n",
      "M_iTreg_r2_TCGCGAGGTGCAACTT   3823  15027      0.022027  0.413030   0.257933   \n",
      "M_iTreg_r2_TCGTACCAGGTGGGTT   4054  15939      0.029238  0.395395  -0.088206   \n",
      "M_iTreg_r2_TCTTCGGAGCTGCCCA   3204  13615      0.028282 -0.214179  -0.210391   \n",
      "\n",
      "                            Phase cluster.id  effectorness  \n",
      "N_Th2_r1_GCATACACAGTAGAGC      G1         TN      0.359369  \n",
      "N_Th2_r1_TAGAGCTGTTAAGATG       S         TN      0.330299  \n",
      "M_Th17_r1_TCTTTCCAGCACGCCT     G1        TEM      0.084227  \n",
      "M_Th17_r2_GAGGTGACAGGCGATA    G2M        TCM      0.566855  \n",
      "N_Th17_r1_CTCGTACAGTGGCACA     G1         TN      0.365239  \n",
      "...                           ...        ...           ...  \n",
      "M_iTreg_r2_GTGGGTCAGTGGGATC     S        TCM      0.905753  \n",
      "M_iTreg_r2_TCGAGGCGTCAAAGAT    G1        TEM      0.879334  \n",
      "M_iTreg_r2_TCGCGAGGTGCAACTT     S        TEM      0.888103  \n",
      "M_iTreg_r2_TCGTACCAGGTGGGTT     S        TEM      0.905234  \n",
      "M_iTreg_r2_TCTTCGGAGCTGCCCA    G1        TEM      0.955858  \n",
      "\n",
      "[500 rows x 12 columns]\n"
     ]
    }
   ],
   "source": [
    "# exercise: read the ./data/obs.csv file into a pandas data frame called obs\n",
    "obs = pd.read_csv('./data/obs.csv', index_col=0)\n",
    "# your code here\n",
    "\n",
    "print(obs)"
   ]
  },
  {
   "cell_type": "code",
   "execution_count": null,
   "metadata": {
    "deletable": false,
    "editable": false,
    "nbgrader": {
     "cell_type": "code",
     "checksum": "3fd218a46150f4fd0f492092f6188416",
     "grade": true,
     "grade_id": "cell-623a18323801579e",
     "locked": true,
     "points": 5,
     "schema_version": 3,
     "solution": false,
     "task": false
    }
   },
   "outputs": [],
   "source": [
    "# tip: use the pandas function for reading csv files! The first column is the index column\n"
   ]
  },
  {
   "cell_type": "code",
   "execution_count": 6,
   "metadata": {
    "deletable": false,
    "nbgrader": {
     "cell_type": "code",
     "checksum": "f8e04a2ab3ff1cb5d165c4bd9d78bf3f",
     "grade": false,
     "grade_id": "cell-6e89049efe9112da",
     "locked": false,
     "schema_version": 3,
     "solution": true,
     "task": false
    }
   },
   "outputs": [
    {
     "name": "stdout",
     "output_type": "stream",
     "text": [
      "                            cell.type cytokine.condition donor.id  batch.10X  \\\n",
      "N_Th2_r1_GCATACACAGTAGAGC       Naive                Th2       D3          1   \n",
      "N_Th2_r1_TAGAGCTGTTAAGATG       Naive                Th2       D2          1   \n",
      "M_Th17_r1_TCTTTCCAGCACGCCT     Memory               Th17       D3          1   \n",
      "M_Th17_r2_GAGGTGACAGGCGATA     Memory               Th17       D3          2   \n",
      "N_Th17_r1_CTCGTACAGTGGCACA      Naive               Th17       D2          1   \n",
      "...                               ...                ...      ...        ...   \n",
      "M_iTreg_r2_GTGGGTCAGTGGGATC    Memory              iTreg       D2          2   \n",
      "M_iTreg_r2_TCGAGGCGTCAAAGAT    Memory              iTreg       D4          2   \n",
      "M_iTreg_r2_TCGCGAGGTGCAACTT    Memory              iTreg       D4          2   \n",
      "M_iTreg_r2_TCGTACCAGGTGGGTT    Memory              iTreg       D1          2   \n",
      "M_iTreg_r2_TCTTCGGAGCTGCCCA    Memory              iTreg       D4          2   \n",
      "\n",
      "                             nGene   nUMI  percent.mito   S.Score  G2M.Score  \\\n",
      "N_Th2_r1_GCATACACAGTAGAGC     2890  15616      0.052834 -0.141680  -0.229996   \n",
      "N_Th2_r1_TAGAGCTGTTAAGATG     3672  18645      0.040603  0.009671  -0.051532   \n",
      "M_Th17_r1_TCTTTCCAGCACGCCT    4375  19334      0.019609 -0.239274  -0.278496   \n",
      "M_Th17_r2_GAGGTGACAGGCGATA    3714  18852      0.036336  0.111576   0.663065   \n",
      "N_Th17_r1_CTCGTACAGTGGCACA    1899   7193      0.015434 -0.138268  -0.193798   \n",
      "...                            ...    ...           ...       ...        ...   \n",
      "M_iTreg_r2_GTGGGTCAGTGGGATC   4466  25602      0.047889  0.137482  -0.198448   \n",
      "M_iTreg_r2_TCGAGGCGTCAAAGAT   4184  19147      0.023504 -0.272980  -0.257085   \n",
      "M_iTreg_r2_TCGCGAGGTGCAACTT   3823  15027      0.022027  0.413030   0.257933   \n",
      "M_iTreg_r2_TCGTACCAGGTGGGTT   4054  15939      0.029238  0.395395  -0.088206   \n",
      "M_iTreg_r2_TCTTCGGAGCTGCCCA   3204  13615      0.028282 -0.214179  -0.210391   \n",
      "\n",
      "                            Phase cluster.id  effectorness  \n",
      "N_Th2_r1_GCATACACAGTAGAGC      G1         TN      0.359369  \n",
      "N_Th2_r1_TAGAGCTGTTAAGATG       S         TN      0.330299  \n",
      "M_Th17_r1_TCTTTCCAGCACGCCT     G1        TEM      0.084227  \n",
      "M_Th17_r2_GAGGTGACAGGCGATA    G2M        TCM      0.566855  \n",
      "N_Th17_r1_CTCGTACAGTGGCACA     G1         TN      0.365239  \n",
      "...                           ...        ...           ...  \n",
      "M_iTreg_r2_GTGGGTCAGTGGGATC     S        TCM      0.905753  \n",
      "M_iTreg_r2_TCGAGGCGTCAAAGAT    G1        TEM      0.879334  \n",
      "M_iTreg_r2_TCGCGAGGTGCAACTT     S        TEM      0.888103  \n",
      "M_iTreg_r2_TCGTACCAGGTGGGTT     S        TEM      0.905234  \n",
      "M_iTreg_r2_TCTTCGGAGCTGCCCA    G1        TEM      0.955858  \n",
      "\n",
      "[500 rows x 12 columns]\n"
     ]
    }
   ],
   "source": [
    "# exercise: assign the obs data frame to scde.obs\n",
    "# your code here\n",
    "scde.obs = obs\n",
    "print(scde.obs)"
   ]
  },
  {
   "cell_type": "code",
   "execution_count": null,
   "metadata": {
    "deletable": false,
    "editable": false,
    "nbgrader": {
     "cell_type": "code",
     "checksum": "74e0c36951049bf274918de0f99895e9",
     "grade": true,
     "grade_id": "cell-125b0a3108b870ec",
     "locked": true,
     "points": 5,
     "schema_version": 3,
     "solution": false,
     "task": false
    }
   },
   "outputs": [],
   "source": [
    "# tip: it's a simple assignment! :-)\n"
   ]
  },
  {
   "cell_type": "markdown",
   "metadata": {
    "deletable": false,
    "editable": false,
    "nbgrader": {
     "cell_type": "markdown",
     "checksum": "2f5d028e2c7d9864c188206ff2d68d1c",
     "grade": false,
     "grade_id": "cell-7ebc49b593c5c402",
     "locked": true,
     "schema_version": 3,
     "solution": false,
     "task": false
    }
   },
   "source": [
    "Now that we have the cell annotation from the original study, we can check what types of cells are included."
   ]
  },
  {
   "cell_type": "code",
   "execution_count": 7,
   "metadata": {
    "deletable": false,
    "nbgrader": {
     "cell_type": "code",
     "checksum": "0d4b786ebbf0275ea4ce225eff2a135a",
     "grade": false,
     "grade_id": "cell-3691280c8fe3c4b9",
     "locked": false,
     "schema_version": 3,
     "solution": true,
     "task": false
    }
   },
   "outputs": [
    {
     "name": "stdout",
     "output_type": "stream",
     "text": [
      "['TN', 'TEM', 'TCM', 'TEMRA']\n"
     ]
    }
   ],
   "source": [
    "# exercise: create a list indicating the cell types contained in the cluster.id column of obs. \n",
    "#cell_types = []\n",
    "# your code here\n",
    "cell_types = scde.obs['cluster.id'].unique().tolist()\n",
    "print(cell_types)"
   ]
  },
  {
   "cell_type": "code",
   "execution_count": null,
   "metadata": {
    "deletable": false,
    "editable": false,
    "nbgrader": {
     "cell_type": "code",
     "checksum": "b6f82b28365dd0357e5b531939e1f49b",
     "grade": true,
     "grade_id": "cell-22a73e15c90cc359",
     "locked": true,
     "points": 5,
     "schema_version": 3,
     "solution": false,
     "task": false
    }
   },
   "outputs": [],
   "source": [
    "# tip: each cell type should be present once. Consider using the `unique()` and `tolist()` methods"
   ]
  },
  {
   "cell_type": "markdown",
   "metadata": {
    "deletable": false,
    "editable": false,
    "nbgrader": {
     "cell_type": "markdown",
     "checksum": "240151f5803611b83ea23ddb4cab9d00",
     "grade": false,
     "grade_id": "cell-402352b33e20293c",
     "locked": true,
     "schema_version": 3,
     "solution": false,
     "task": false
    }
   },
   "source": [
    "We now want to ensure that all cells have a sufficient amount of reads before continuing our analyses. Thus, let's compute the sum of reads for each cell and let's story it in a numpy array."
   ]
  },
  {
   "cell_type": "code",
   "execution_count": 8,
   "metadata": {
    "deletable": false,
    "nbgrader": {
     "cell_type": "code",
     "checksum": "3331fae031c553d625bc049291ce6cb9",
     "grade": false,
     "grade_id": "cell-8036cf7a4a5cbee6",
     "locked": false,
     "schema_version": 3,
     "solution": true,
     "task": false
    }
   },
   "outputs": [
    {
     "name": "stdout",
     "output_type": "stream",
     "text": [
      "[[15615.]\n",
      " [18644.]\n",
      " [19328.]\n",
      " [18852.]\n",
      " [ 7192.]\n",
      " [41474.]\n",
      " [47778.]\n",
      " [22769.]\n",
      " [48416.]\n",
      " [ 7270.]]\n"
     ]
    }
   ],
   "source": [
    "# exercise: compute the number of reads for each cell\n",
    "num_reads = scde.X.sum(axis=1)\n",
    "# your code here\n",
    "\n",
    "print(num_reads[0:10])"
   ]
  },
  {
   "cell_type": "code",
   "execution_count": null,
   "metadata": {
    "deletable": false,
    "editable": false,
    "nbgrader": {
     "cell_type": "code",
     "checksum": "327d7d773e86748c3be1007f386b86dd",
     "grade": true,
     "grade_id": "cell-b798231bd9449cb5",
     "locked": true,
     "points": 5,
     "schema_version": 3,
     "solution": false,
     "task": false
    }
   },
   "outputs": [],
   "source": [
    "# tip: simple sum across all genes for each cell"
   ]
  },
  {
   "cell_type": "code",
   "execution_count": 9,
   "metadata": {
    "deletable": false,
    "nbgrader": {
     "cell_type": "code",
     "checksum": "fba6f013533353275dacad4a957d5732",
     "grade": false,
     "grade_id": "cell-fc6d7a8ac161715a",
     "locked": false,
     "schema_version": 3,
     "solution": true,
     "task": false
    }
   },
   "outputs": [
    {
     "name": "stdout",
     "output_type": "stream",
     "text": [
      "424\n"
     ]
    }
   ],
   "source": [
    "# exercise: remove cells with less than 10000 reads in total. Name the new anndata object 'scder'\n",
    "scder = scde[num_reads >= 10000, :]\n",
    "# your code here\n",
    "\n",
    "print(scder.n_obs)"
   ]
  },
  {
   "cell_type": "code",
   "execution_count": null,
   "metadata": {
    "deletable": false,
    "editable": false,
    "nbgrader": {
     "cell_type": "code",
     "checksum": "1c8df4c0c67dc3247f89a3910add77f7",
     "grade": true,
     "grade_id": "cell-0b536bdcf7674b0a",
     "locked": true,
     "points": 5,
     "schema_version": 3,
     "solution": false,
     "task": false
    }
   },
   "outputs": [],
   "source": [
    "# tip: recall how anndata object can be subsetted"
   ]
  },
  {
   "cell_type": "markdown",
   "metadata": {
    "deletable": false,
    "editable": false,
    "nbgrader": {
     "cell_type": "markdown",
     "checksum": "f25bc3498ac09e16b1a6a50d96a90ca4",
     "grade": false,
     "grade_id": "cell-a675389a360f945c",
     "locked": true,
     "schema_version": 3,
     "solution": false,
     "task": false
    }
   },
   "source": [
    "We are almost done with this first phase of the analysis. We just need to save the reduced scanpy object in a new file, 'scdr.h5ad'"
   ]
  },
  {
   "cell_type": "code",
   "execution_count": 10,
   "metadata": {
    "deletable": false,
    "editable": false,
    "nbgrader": {
     "cell_type": "code",
     "checksum": "5d646a491f455fd0702a2b2e14f389a3",
     "grade": false,
     "grade_id": "cell-d5010260b9469a0a",
     "locked": true,
     "schema_version": 3,
     "solution": false,
     "task": false
    }
   },
   "outputs": [],
   "source": [
    "# making sure the 'scdr.h5ad' file is not on the disk already\n",
    "import os\n",
    "if os.path.isfile('./data/scder.h5ad'):\n",
    "    os.remove('./data/scder.h5ad')"
   ]
  },
  {
   "cell_type": "code",
   "execution_count": 11,
   "metadata": {
    "deletable": false,
    "nbgrader": {
     "cell_type": "code",
     "checksum": "63f870785e859849f4847e7b9c2d79e0",
     "grade": false,
     "grade_id": "cell-730a9a5a4f0a61ea",
     "locked": false,
     "schema_version": 3,
     "solution": true,
     "task": false
    }
   },
   "outputs": [
    {
     "name": "stderr",
     "output_type": "stream",
     "text": [
      "Trying to set attribute `.obs` of view, copying.\n",
      "... storing 'cell.type' as categorical\n",
      "Trying to set attribute `.obs` of view, copying.\n",
      "... storing 'cytokine.condition' as categorical\n",
      "Trying to set attribute `.obs` of view, copying.\n",
      "... storing 'donor.id' as categorical\n",
      "Trying to set attribute `.obs` of view, copying.\n",
      "... storing 'Phase' as categorical\n",
      "Trying to set attribute `.obs` of view, copying.\n",
      "... storing 'cluster.id' as categorical\n"
     ]
    }
   ],
   "source": [
    "# exercise: save the new scanpy object in a file named './data/scder.h5ad'\n",
    "# your code here\n",
    "scder.write('./data/scder.h5ad')"
   ]
  },
  {
   "cell_type": "code",
   "execution_count": null,
   "metadata": {
    "deletable": false,
    "editable": false,
    "nbgrader": {
     "cell_type": "code",
     "checksum": "97128a4365521bb8c5e6b94bcc3ffada",
     "grade": true,
     "grade_id": "cell-c4ffa7a91561607a",
     "locked": true,
     "points": 5,
     "schema_version": 3,
     "solution": false,
     "task": false
    }
   },
   "outputs": [],
   "source": [
    "# tip: use the scanpy method for writing h5ad files"
   ]
  }
 ],
 "metadata": {
  "kernelspec": {
   "display_name": "Python 3",
   "language": "python",
   "name": "python3"
  },
  "language_info": {
   "codemirror_mode": {
    "name": "ipython",
    "version": 3
   },
   "file_extension": ".py",
   "mimetype": "text/x-python",
   "name": "python",
   "nbconvert_exporter": "python",
   "pygments_lexer": "ipython3",
   "version": "3.7.6"
  }
 },
 "nbformat": 4,
 "nbformat_minor": 4
}
